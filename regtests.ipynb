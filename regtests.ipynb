{
 "cells": [
  {
   "cell_type": "code",
   "execution_count": 1,
   "metadata": {},
   "outputs": [],
   "source": [
    "import lecturereg"
   ]
  },
  {
   "cell_type": "code",
   "execution_count": 2,
   "metadata": {},
   "outputs": [
    {
     "name": "stdout",
     "output_type": "stream",
     "text": [
      "partyopreg.json will be created if it does not exist.\n"
     ]
    }
   ],
   "source": [
    "regtex = lecturereg.TextFormatter('partyop.json', 'partyopreg.json')\n"
   ]
  },
  {
   "cell_type": "code",
   "execution_count": 3,
   "metadata": {},
   "outputs": [
    {
     "name": "stdout",
     "output_type": "stream",
     "text": [
      "277 substitutions made to partyop.json and written to partyopreg.json.\n"
     ]
    }
   ],
   "source": [
    "regtex.regtext('(\\\\n)', sub='\\n')"
   ]
  }
 ],
 "metadata": {
  "kernelspec": {
   "display_name": "Python 3.10.5 ('venv': venv)",
   "language": "python",
   "name": "python3"
  },
  "language_info": {
   "codemirror_mode": {
    "name": "ipython",
    "version": 3
   },
   "file_extension": ".py",
   "mimetype": "text/x-python",
   "name": "python",
   "nbconvert_exporter": "python",
   "pygments_lexer": "ipython3",
   "version": "3.10.5"
  },
  "orig_nbformat": 4,
  "vscode": {
   "interpreter": {
    "hash": "1bde3b8fc441247c5012b20c377f612a1ae0c59ba03f31f2c44ab90e2227ef94"
   }
  }
 },
 "nbformat": 4,
 "nbformat_minor": 2
}
